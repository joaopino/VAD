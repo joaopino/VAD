{
 "cells": [
  {
   "cell_type": "markdown",
   "metadata": {},
   "source": [
    "Import and setup dataset"
   ]
  },
  {
   "cell_type": "code",
   "execution_count": null,
   "metadata": {},
   "outputs": [],
   "source": [
    "import pandas as pd\n",
    "import plotly.express as px\n",
    "import matplotlib.pyplot as plt\n",
    "import dash\n",
    "import dash_core_components as dcc\n",
    "import dash_html_components as html\n",
    "import seaborn as sns\n",
    "import plotly.express as px\n",
    "import plotly.graph_objects as go\n",
    "import pandas as pd\n",
    "import plotly.express as px\n",
    "from dash import Dash, dcc, html, Input, Output\n",
    "\n",
    "df = pd.read_csv(\"../datasets/dataset.csv\")\n",
    "df = df[df['country'] != 'world']"
   ]
  },
  {
   "cell_type": "code",
   "execution_count": 2,
   "metadata": {},
   "outputs": [],
   "source": [
    "# Número de Instâncias de Desperdício por País\n",
    "num_instances_country = df.groupby('country').size().reset_index(name='Instances')\n",
    "fig_num_instances_country = px.choropleth(num_instances_country, \n",
    "                    locations=\"country\", \n",
    "                    locationmode=\"country names\",\n",
    "                    color=\"Instances\", \n",
    "                    hover_name=\"country\", \n",
    "                    title=\"Número de Instâncias de Desperdício por País\")\n",
    "\n",
    "# Percentagem Média de Perda por País\n",
    "loss_percentage_country = df.groupby('country')['loss_percentage'].mean().reset_index()\n",
    "fig_loss_percentage_country = px.choropleth(loss_percentage_country, \n",
    "                    locations=\"country\",\n",
    "                    locationmode=\"country names\",\n",
    "                    color=\"loss_percentage\",\n",
    "                    hover_name=\"country\",\n",
    "                    title=\"Percentagem Média de Perda por País\")\n"
   ]
  },
  {
   "cell_type": "code",
   "execution_count": null,
   "metadata": {},
   "outputs": [],
   "source": [
    "# Food supply stage por ano no mundo\n",
    "food_supply_stage_world_by_year = df.groupby(['year', 'food_supply_stage']).size().reset_index(name='count')\n",
    "fig_food_supply_stage_world_by_year = px.bar(food_supply_stage_world_by_year, x='year', y='count', color='food_supply_stage', title=\"Estágio de fornecimento de alimentos no mundo por ano\")\n",
    "\n",
    "# GDP Mundial por Ano\n",
    "gdp_world_by_year = df.groupby('year')['GDP'].mean().reset_index()\n",
    "fig_gdp_world_by_year = px.line(gdp_world_by_year, x='year', y='GDP', title=\"GDP mundial por ano\")\n",
    "\n",
    "# Percentagem de Perdas por Ano no Mundo\n",
    "loss_percentage_world_by_year = df.groupby('year')['loss_percentage'].mean().reset_index()\n",
    "fig_loss_percentage_world_by_year = px.line(loss_percentage_world_by_year, x='year', y='loss_percentage', title=\"Percentagem de perdas no mundo por ano\")\n",
    "\n",
    "# Produção Mundial de Alimentos por Ano\n",
    "food_production_world_by_year = df.groupby('year')['country_product_prodution'].sum().reset_index()\n",
    "fig_food_production_world_by_year = px.line(food_production_world_by_year, x='year', y='country_product_prodution', title=\"Produção mundial de alimentos por ano\")"
   ]
  },
  {
   "cell_type": "code",
   "execution_count": null,
   "metadata": {},
   "outputs": [],
   "source": [
    "# Produção de alimentos por produto no mundo\n",
    "food_production_by_product_world = df.groupby(['product', 'year'])['country_product_prodution'].sum().reset_index()\n",
    "fig_food_production_by_product_world = px.bar(food_production_by_product_world, x='product', y='country_product_prodution', title=\"Produção de alimentos no mundo por produto e ano\")\n",
    "\n",
    "# Estágio de Fornecimento de Alimentos com Perdas no Mundo\n",
    "food_supply_stage_loss_world = df.dropna(subset=['food_supply_stage']).groupby('food_supply_stage')['loss_percentage'].sum().reset_index()\n",
    "fig_food_supply_stage_loss_world = px.bar(food_supply_stage_loss_world, x='food_supply_stage', y='loss_percentage', title=\"Estágio de fornecimento de alimentos com perdas no mundo\")\n",
    "\n",
    "# Percentagem de Perdas por Produto no Mundo\n",
    "loss_percentage_by_product_world = df.groupby('product')['loss_percentage'].mean().reset_index()\n",
    "fig_loss_percentage_by_product_world = px.scatter(loss_percentage_by_product_world, x='product', y='loss_percentage', title=\"Percentagem de perdas por produto no mundo\")\n",
    "\n",
    "# Loss_percentage por food_supply_stage\n",
    "loss_percentage_by_food_supply_stage = df.dropna(subset=['food_supply_stage']).groupby('food_supply_stage')['loss_percentage'].mean().reset_index()\n",
    "fig_loss_percentage_by_food_supply_stage = px.bar(loss_percentage_by_food_supply_stage, x='food_supply_stage', y='loss_percentage', title=\"Percentagem de perdas por estágio de fornecimento de alimentos\")"
   ]
  },
  {
   "cell_type": "code",
   "execution_count": null,
   "metadata": {},
   "outputs": [],
   "source": [
    "# Perdas mundial de alimento por exemplo Wheat por ano\n",
    "wheat_loss_world_by_year = df[df['product'] == 'Wheat'].groupby('year')['loss_percentage'].mean().reset_index()\n",
    "fig_wheat_loss_world_by_year = px.bar(wheat_loss_world_by_year, x='year', y='loss_percentage', title=\"Perdas de trigo no mundo por ano\")\n",
    "\n",
    "# Produção de Trigo no Mundo por Ano\n",
    "wheat_production_by_year_world = df[df['product'] == 'Wheat'].groupby('year')['country_product_prodution'].sum().reset_index()\n",
    "fig_wheat_production_by_year_world = px.line(wheat_production_by_year_world, x='year', y='country_product_prodution', title=\"Produção de trigo no mundo por ano\")\n",
    "\n",
    "# Top Países com Maior Perda de Wheat\n",
    "top_countries_wheat_loss = df[df['product'] == 'Wheat'].groupby('country')['loss_percentage'].sum().reset_index().sort_values(by='loss_percentage', ascending=False)\n",
    "fig_top_countries_wheat_loss = px.bar(top_countries_wheat_loss.head(10), x='loss_percentage', y='country', orientation='h', title=\"Top Países com Maior Perda de Wheat\")"
   ]
  },
  {
   "cell_type": "code",
   "execution_count": null,
   "metadata": {},
   "outputs": [],
   "source": [
    "# Produção de um alimento por exemplo Wheat por ano num pais\n",
    "wheat_production_by_year_canada = df[(df['country'] == 'Canada') & (df['product'] == 'Wheat')].groupby('year')['country_product_prodution'].sum().reset_index()\n",
    "fig_wheat_production_by_year_canada = px.bar(wheat_production_by_year_canada, x='year', y='country_product_prodution', title=\"Produção de trigo no Canadá por ano\")"
   ]
  },
  {
   "cell_type": "code",
   "execution_count": null,
   "metadata": {},
   "outputs": [],
   "source": [
    "# Loss_percentage por GDP por pais\n",
    "loss_percentage_by_gdp_country = df.groupby('country')['loss_percentage'].mean().reset_index()\n",
    "fig_loss_percentage_by_gdp_country = px.bar(loss_percentage_by_gdp_country, x='country', y='loss_percentage', title=\"Percentagem de perdas por GDP por país\")\n",
    "\n",
    "# Produção de alimentos por pais\n",
    "food_production_by_country = df.groupby('country')['country_product_prodution'].sum().reset_index()\n",
    "fig_food_production_by_country = px.bar(food_production_by_country, x='country', y='country_product_prodution', title=\"Produção de alimentos por país\")"
   ]
  },
  {
   "cell_type": "code",
   "execution_count": null,
   "metadata": {},
   "outputs": [],
   "source": [
    "# Alimentos Desperdiçados no Canadá por Produto\n",
    "food_loss_product_canada = df[df['country'] == 'Canada'].groupby('product')['loss_percentage'].sum().reset_index()\n",
    "fig_food_loss_product_canada = px.bar(food_loss_product_canada, x='loss_percentage', y='product', orientation='h', title=\"Alimentos Desperdiçados no Canadá por Produto\")\n",
    "\n",
    "# Produção de Alimentos no Canadá por Ano\n",
    "food_production_by_year_canada = df[df['country'] == 'Canada'].groupby('year')['country_product_prodution'].sum().reset_index()\n",
    "fig_food_production_by_year_canada = px.line(food_production_by_year_canada, x='year', y='country_product_prodution', title=\"Produção de alimentos no Canadá por ano\")\n",
    "\n",
    "# GDP do Canadá por Ano\n",
    "gdp_by_year_canada = df[df['country'] == 'Canada'].groupby('year')['GDP'].mean().reset_index()\n",
    "fig_gdp_by_year_canada = px.line(gdp_by_year_canada, x='year', y='GDP', title=\"GDP do Canadá por ano\")\n",
    "\n",
    "# Percentagem de Perdas no Canadá por Ano\n",
    "loss_percentage_by_year_canada = df[df['country'] == 'Canada'].groupby('year')['loss_percentage'].mean().reset_index()\n",
    "fig_loss_percentage_by_year_canada = px.line(loss_percentage_by_year_canada, x='year', y='loss_percentage', title=\"Percentagem de perdas no Canadá por ano\")\n",
    "\n",
    "# Estágio de Fornecimento de Alimentos no Canadá por Ano\n",
    "food_supply_stage_by_year_canada = df[df['country'] == 'Canada'].groupby(['year', 'food_supply_stage']).size().reset_index(name='count')\n",
    "fig_food_supply_stage_by_year_canada = px.area(food_supply_stage_by_year_canada, x='year', y='count', color='food_supply_stage', title=\"Estágio de fornecimento de alimentos no Canadá por ano\")\n",
    "\n",
    "# Produção de alimentos por produto num pais\n",
    "food_production_by_product_canada = df[df['country'] == 'Canada'].groupby('product')['country_product_prodution'].sum().reset_index()\n",
    "fig_food_production_by_product_canada = px.bar(food_production_by_product_canada, x='product', y='country_product_prodution', title=\"Produção de alimentos no Canadá por produto\")"
   ]
  }
 ],
 "metadata": {
  "kernelspec": {
   "display_name": "Python 3",
   "language": "python",
   "name": "python3"
  },
  "language_info": {
   "codemirror_mode": {
    "name": "ipython",
    "version": 3
   },
   "file_extension": ".py",
   "mimetype": "text/x-python",
   "name": "python",
   "nbconvert_exporter": "python",
   "pygments_lexer": "ipython3",
   "version": "3.9.9"
  }
 },
 "nbformat": 4,
 "nbformat_minor": 2
}
