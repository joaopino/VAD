{
 "cells": [
  {
   "cell_type": "code",
   "execution_count": 52,
   "metadata": {},
   "outputs": [
    {
     "name": "stdout",
     "output_type": "stream",
     "text": [
      "5.0\n",
      "227.545\n",
      "5227545000\n",
      "997\n"
     ]
    }
   ],
   "source": [
    "n = 5227545997\n",
    "\n",
    "n1 = (n - (n%1000000000))/1000000000\n",
    "n4 = n%1000\n",
    "n3 = (n - n4 - n1*1000000000)\n",
    "n2 = (n - n4 - n1*1000000000)/1000000\n",
    "\n",
    "print(n1)\n",
    "print(n2)\n",
    "print(n3)\n",
    "print(n4)\n",
    "\n",
    "#print(\"{},{},{},{}\".format(n1,n2,n3,n4))"
   ]
  }
 ],
 "metadata": {
  "kernelspec": {
   "display_name": "Python 3",
   "language": "python",
   "name": "python3"
  },
  "language_info": {
   "codemirror_mode": {
    "name": "ipython",
    "version": 3
   },
   "file_extension": ".py",
   "mimetype": "text/x-python",
   "name": "python",
   "nbconvert_exporter": "python",
   "pygments_lexer": "ipython3",
   "version": "3.9.9"
  }
 },
 "nbformat": 4,
 "nbformat_minor": 2
}
